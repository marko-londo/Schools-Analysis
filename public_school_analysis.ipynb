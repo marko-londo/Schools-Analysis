{
 "cells": [
  {
   "attachments": {},
   "cell_type": "markdown",
   "id": "29492666-a5bf-416e-8d1b-1cd61539c518",
   "metadata": {},
   "source": [
    "# US School Analysis"
   ]
  },
  {
   "attachments": {},
   "cell_type": "markdown",
   "id": "c64cbaad-1c75-4652-8376-e5e6c803e27d",
   "metadata": {},
   "source": [
    "## Start with imports and reading in your data"
   ]
  },
  {
   "cell_type": "code",
   "execution_count": 54,
   "id": "55db3a45-7d63-4920-b183-cd2aa521a8c0",
   "metadata": {},
   "outputs": [],
   "source": [
    "# Include all your imports here\n",
    "import pandas as pd\n",
    "from pathlib import Path\n",
    "import matplotlib.pyplot as plt\n",
    "%matplotlib inline\n",
    "import seaborn as sns"
   ]
  },
  {
   "cell_type": "code",
   "execution_count": 55,
   "id": "f4867586-65ce-46cd-b110-7ff6761ba4a5",
   "metadata": {},
   "outputs": [
    {
     "data": {
      "text/html": [
       "<div>\n",
       "<style scoped>\n",
       "    .dataframe tbody tr th:only-of-type {\n",
       "        vertical-align: middle;\n",
       "    }\n",
       "\n",
       "    .dataframe tbody tr th {\n",
       "        vertical-align: top;\n",
       "    }\n",
       "\n",
       "    .dataframe thead th {\n",
       "        text-align: right;\n",
       "    }\n",
       "</style>\n",
       "<table border=\"1\" class=\"dataframe\">\n",
       "  <thead>\n",
       "    <tr style=\"text-align: right;\">\n",
       "      <th></th>\n",
       "      <th>UNIQUE_ID</th>\n",
       "      <th>LSTATE</th>\n",
       "      <th>SCHOOL_LEVEL</th>\n",
       "      <th>SCHOOL_TYPE_TEXT</th>\n",
       "      <th>TOTAL</th>\n",
       "      <th>FTE</th>\n",
       "      <th>STUTERATIO</th>\n",
       "      <th>AM</th>\n",
       "      <th>AS</th>\n",
       "      <th>BL</th>\n",
       "      <th>HP</th>\n",
       "      <th>HI</th>\n",
       "      <th>TR</th>\n",
       "      <th>WH</th>\n",
       "    </tr>\n",
       "  </thead>\n",
       "  <tbody>\n",
       "    <tr>\n",
       "      <th>0</th>\n",
       "      <td>10000500870</td>\n",
       "      <td>AL</td>\n",
       "      <td>Middle</td>\n",
       "      <td>Regular school</td>\n",
       "      <td>908.0</td>\n",
       "      <td>42.0</td>\n",
       "      <td>21.62</td>\n",
       "      <td>2.0</td>\n",
       "      <td>4.0</td>\n",
       "      <td>33.0</td>\n",
       "      <td>0.0</td>\n",
       "      <td>469.0</td>\n",
       "      <td>29.0</td>\n",
       "      <td>371.0</td>\n",
       "    </tr>\n",
       "    <tr>\n",
       "      <th>1</th>\n",
       "      <td>10000500871</td>\n",
       "      <td>AL</td>\n",
       "      <td>High</td>\n",
       "      <td>Regular school</td>\n",
       "      <td>1606.0</td>\n",
       "      <td>82.0</td>\n",
       "      <td>19.59</td>\n",
       "      <td>1.0</td>\n",
       "      <td>6.0</td>\n",
       "      <td>70.0</td>\n",
       "      <td>0.0</td>\n",
       "      <td>785.0</td>\n",
       "      <td>38.0</td>\n",
       "      <td>706.0</td>\n",
       "    </tr>\n",
       "    <tr>\n",
       "      <th>2</th>\n",
       "      <td>10000500879</td>\n",
       "      <td>AL</td>\n",
       "      <td>Middle</td>\n",
       "      <td>Regular school</td>\n",
       "      <td>891.0</td>\n",
       "      <td>41.0</td>\n",
       "      <td>21.73</td>\n",
       "      <td>4.0</td>\n",
       "      <td>7.0</td>\n",
       "      <td>24.0</td>\n",
       "      <td>1.0</td>\n",
       "      <td>481.0</td>\n",
       "      <td>29.0</td>\n",
       "      <td>345.0</td>\n",
       "    </tr>\n",
       "    <tr>\n",
       "      <th>3</th>\n",
       "      <td>10000500889</td>\n",
       "      <td>AL</td>\n",
       "      <td>Elementary</td>\n",
       "      <td>Regular school</td>\n",
       "      <td>908.0</td>\n",
       "      <td>49.0</td>\n",
       "      <td>18.53</td>\n",
       "      <td>4.0</td>\n",
       "      <td>4.0</td>\n",
       "      <td>48.0</td>\n",
       "      <td>0.0</td>\n",
       "      <td>497.0</td>\n",
       "      <td>15.0</td>\n",
       "      <td>340.0</td>\n",
       "    </tr>\n",
       "    <tr>\n",
       "      <th>4</th>\n",
       "      <td>10000501616</td>\n",
       "      <td>AL</td>\n",
       "      <td>Elementary</td>\n",
       "      <td>Regular school</td>\n",
       "      <td>556.0</td>\n",
       "      <td>30.0</td>\n",
       "      <td>18.53</td>\n",
       "      <td>4.0</td>\n",
       "      <td>2.0</td>\n",
       "      <td>33.0</td>\n",
       "      <td>0.0</td>\n",
       "      <td>288.0</td>\n",
       "      <td>13.0</td>\n",
       "      <td>216.0</td>\n",
       "    </tr>\n",
       "  </tbody>\n",
       "</table>\n",
       "</div>"
      ],
      "text/plain": [
       "     UNIQUE_ID LSTATE SCHOOL_LEVEL SCHOOL_TYPE_TEXT   TOTAL   FTE  STUTERATIO  \\\n",
       "0  10000500870     AL       Middle   Regular school   908.0  42.0       21.62   \n",
       "1  10000500871     AL         High   Regular school  1606.0  82.0       19.59   \n",
       "2  10000500879     AL       Middle   Regular school   891.0  41.0       21.73   \n",
       "3  10000500889     AL   Elementary   Regular school   908.0  49.0       18.53   \n",
       "4  10000501616     AL   Elementary   Regular school   556.0  30.0       18.53   \n",
       "\n",
       "    AM   AS    BL   HP     HI    TR     WH  \n",
       "0  2.0  4.0  33.0  0.0  469.0  29.0  371.0  \n",
       "1  1.0  6.0  70.0  0.0  785.0  38.0  706.0  \n",
       "2  4.0  7.0  24.0  1.0  481.0  29.0  345.0  \n",
       "3  4.0  4.0  48.0  0.0  497.0  15.0  340.0  \n",
       "4  4.0  2.0  33.0  0.0  288.0  13.0  216.0  "
      ]
     },
     "execution_count": 55,
     "metadata": {},
     "output_type": "execute_result"
    }
   ],
   "source": [
    "# Load the Public school dataset\n",
    "school_df_path = Path(r\"C:\\Users\\dontb\\01\\001\\Repos\\Schools-Analysis\\Resources\\public_school_data.csv\")\n",
    "data = pd.read_csv(school_df_path)\n",
    "data.head()"
   ]
  },
  {
   "cell_type": "code",
   "execution_count": 56,
   "id": "ab574b7a-d060-4efb-9507-541e1082fa72",
   "metadata": {},
   "outputs": [
    {
     "data": {
      "text/html": [
       "<div>\n",
       "<style scoped>\n",
       "    .dataframe tbody tr th:only-of-type {\n",
       "        vertical-align: middle;\n",
       "    }\n",
       "\n",
       "    .dataframe tbody tr th {\n",
       "        vertical-align: top;\n",
       "    }\n",
       "\n",
       "    .dataframe thead th {\n",
       "        text-align: right;\n",
       "    }\n",
       "</style>\n",
       "<table border=\"1\" class=\"dataframe\">\n",
       "  <thead>\n",
       "    <tr style=\"text-align: right;\">\n",
       "      <th></th>\n",
       "      <th>ID</th>\n",
       "      <th>LATCOD</th>\n",
       "      <th>LONCOD</th>\n",
       "    </tr>\n",
       "  </thead>\n",
       "  <tbody>\n",
       "    <tr>\n",
       "      <th>0</th>\n",
       "      <td>10000500870</td>\n",
       "      <td>34.2602</td>\n",
       "      <td>-86.206200</td>\n",
       "    </tr>\n",
       "    <tr>\n",
       "      <th>1</th>\n",
       "      <td>10000500871</td>\n",
       "      <td>34.2622</td>\n",
       "      <td>-86.204900</td>\n",
       "    </tr>\n",
       "    <tr>\n",
       "      <th>2</th>\n",
       "      <td>10000500879</td>\n",
       "      <td>34.2733</td>\n",
       "      <td>-86.220100</td>\n",
       "    </tr>\n",
       "    <tr>\n",
       "      <th>3</th>\n",
       "      <td>10000500889</td>\n",
       "      <td>34.2527</td>\n",
       "      <td>-86.221806</td>\n",
       "    </tr>\n",
       "    <tr>\n",
       "      <th>4</th>\n",
       "      <td>10000501616</td>\n",
       "      <td>34.2898</td>\n",
       "      <td>-86.193300</td>\n",
       "    </tr>\n",
       "  </tbody>\n",
       "</table>\n",
       "</div>"
      ],
      "text/plain": [
       "            ID   LATCOD     LONCOD\n",
       "0  10000500870  34.2602 -86.206200\n",
       "1  10000500871  34.2622 -86.204900\n",
       "2  10000500879  34.2733 -86.220100\n",
       "3  10000500889  34.2527 -86.221806\n",
       "4  10000501616  34.2898 -86.193300"
      ]
     },
     "execution_count": 56,
     "metadata": {},
     "output_type": "execute_result"
    }
   ],
   "source": [
    "# Load the Public school locations dataset\n",
    "\n",
    "school_locations_path = Path(r\"C:\\Users\\dontb\\01\\001\\Repos\\Schools-Analysis\\Resources\\public_school_locations.csv\")\n",
    "locations = pd.read_csv(school_locations_path)\n",
    "locations.head()"
   ]
  },
  {
   "cell_type": "code",
   "execution_count": 57,
   "id": "9321098c-24d5-4349-9a0d-834d57dab400",
   "metadata": {},
   "outputs": [
    {
     "data": {
      "text/html": [
       "<div>\n",
       "<style scoped>\n",
       "    .dataframe tbody tr th:only-of-type {\n",
       "        vertical-align: middle;\n",
       "    }\n",
       "\n",
       "    .dataframe tbody tr th {\n",
       "        vertical-align: top;\n",
       "    }\n",
       "\n",
       "    .dataframe thead th {\n",
       "        text-align: right;\n",
       "    }\n",
       "</style>\n",
       "<table border=\"1\" class=\"dataframe\">\n",
       "  <thead>\n",
       "    <tr style=\"text-align: right;\">\n",
       "      <th></th>\n",
       "      <th>Fields</th>\n",
       "      <th>Field Descriptions</th>\n",
       "    </tr>\n",
       "  </thead>\n",
       "  <tbody>\n",
       "    <tr>\n",
       "      <th>0</th>\n",
       "      <td>OBJECTID</td>\n",
       "      <td>OBJECTID</td>\n",
       "    </tr>\n",
       "    <tr>\n",
       "      <th>1</th>\n",
       "      <td>Shape</td>\n",
       "      <td>Shape</td>\n",
       "    </tr>\n",
       "    <tr>\n",
       "      <th>2</th>\n",
       "      <td>UNIQUE_ID</td>\n",
       "      <td>Unique School ID</td>\n",
       "    </tr>\n",
       "    <tr>\n",
       "      <th>3</th>\n",
       "      <td>SURVYEAR</td>\n",
       "      <td>Year corresponding to survey record</td>\n",
       "    </tr>\n",
       "    <tr>\n",
       "      <th>4</th>\n",
       "      <td>STABR</td>\n",
       "      <td>Postal state abbreviation code</td>\n",
       "    </tr>\n",
       "  </tbody>\n",
       "</table>\n",
       "</div>"
      ],
      "text/plain": [
       "      Fields                   Field Descriptions\n",
       "0   OBJECTID                             OBJECTID\n",
       "1      Shape                                Shape\n",
       "2  UNIQUE_ID                     Unique School ID\n",
       "3   SURVYEAR  Year corresponding to survey record\n",
       "4      STABR       Postal state abbreviation code"
      ]
     },
     "execution_count": 57,
     "metadata": {},
     "output_type": "execute_result"
    }
   ],
   "source": [
    "# Load the Public school data dictionary file\n",
    "school_dict_path = Path(r\"C:\\Users\\dontb\\01\\001\\Repos\\Schools-Analysis\\Resources\\school_data_dictionary.csv\")\n",
    "dictionary = pd.read_csv(school_dict_path)\n",
    "dictionary.head()"
   ]
  },
  {
   "attachments": {},
   "cell_type": "markdown",
   "id": "9b5c714d-1c47-4532-b349-f31018c2ee7e",
   "metadata": {},
   "source": [
    "## Data Exploration and Preparation"
   ]
  },
  {
   "cell_type": "code",
   "execution_count": 58,
   "id": "07b2ff0a-a818-4f2e-b115-2c23ebdb7347",
   "metadata": {},
   "outputs": [
    {
     "data": {
      "text/html": [
       "<div>\n",
       "<style scoped>\n",
       "    .dataframe tbody tr th:only-of-type {\n",
       "        vertical-align: middle;\n",
       "    }\n",
       "\n",
       "    .dataframe tbody tr th {\n",
       "        vertical-align: top;\n",
       "    }\n",
       "\n",
       "    .dataframe thead th {\n",
       "        text-align: right;\n",
       "    }\n",
       "</style>\n",
       "<table border=\"1\" class=\"dataframe\">\n",
       "  <thead>\n",
       "    <tr style=\"text-align: right;\">\n",
       "      <th></th>\n",
       "      <th>Fields</th>\n",
       "      <th>Field Descriptions</th>\n",
       "    </tr>\n",
       "  </thead>\n",
       "  <tbody>\n",
       "    <tr>\n",
       "      <th>2</th>\n",
       "      <td>UNIQUE_ID</td>\n",
       "      <td>Unique School ID</td>\n",
       "    </tr>\n",
       "    <tr>\n",
       "      <th>12</th>\n",
       "      <td>LSTATE</td>\n",
       "      <td>Location state</td>\n",
       "    </tr>\n",
       "    <tr>\n",
       "      <th>21</th>\n",
       "      <td>SCHOOL_LEVEL</td>\n",
       "      <td>School level</td>\n",
       "    </tr>\n",
       "    <tr>\n",
       "      <th>25</th>\n",
       "      <td>SCHOOL_TYPE_TEXT</td>\n",
       "      <td>School type (description)</td>\n",
       "    </tr>\n",
       "    <tr>\n",
       "      <th>51</th>\n",
       "      <td>TOTAL</td>\n",
       "      <td>Total students all grades (includes AE)</td>\n",
       "    </tr>\n",
       "  </tbody>\n",
       "</table>\n",
       "</div>"
      ],
      "text/plain": [
       "              Fields                       Field Descriptions\n",
       "2          UNIQUE_ID                         Unique School ID\n",
       "12            LSTATE                           Location state\n",
       "21      SCHOOL_LEVEL                             School level\n",
       "25  SCHOOL_TYPE_TEXT                School type (description)\n",
       "51             TOTAL  Total students all grades (includes AE)"
      ]
     },
     "execution_count": 58,
     "metadata": {},
     "output_type": "execute_result"
    }
   ],
   "source": [
    "# Use an .isin() function to keep only fields that appear in the main public_school_data.csv and identify the unique id column \n",
    "dictionary = dictionary[dictionary[\"Fields\"].isin(data.columns)]\n",
    "dictionary.head()"
   ]
  },
  {
   "cell_type": "code",
   "execution_count": 59,
   "id": "88e8adad-acf9-4364-abbd-fc0f58478867",
   "metadata": {},
   "outputs": [
    {
     "name": "stdout",
     "output_type": "stream",
     "text": [
      "100722\n",
      "100722\n"
     ]
    }
   ],
   "source": [
    "# Ensure the column you selected is indeed a unique identifier by checking the number of uniqe values and comparing it to the number of rows in the dataframe\n",
    "print(len(data.UNIQUE_ID))\n",
    "print(len(data.index))\n",
    "\n"
   ]
  },
  {
   "cell_type": "code",
   "execution_count": 60,
   "id": "b5895fe0-a0d2-4df1-b5f1-6a8ed3a8a3b0",
   "metadata": {},
   "outputs": [],
   "source": [
    "# Change the names of the unique ID column in both the location data and public school data to match and set them as index\n",
    "locations.rename(columns={locations.columns[0]: \"ID_NUM\"}, inplace=True)\n",
    "data.rename(columns={data.columns[0]: \"ID_NUM\"}, inplace=True)\n",
    "locations.set_index(\"ID_NUM\", inplace=True)\n",
    "data.set_index(\"ID_NUM\", inplace=True)"
   ]
  },
  {
   "cell_type": "code",
   "execution_count": 61,
   "id": "b8fd0a6d-1c51-4db7-b7b9-8cb2e2c0b879",
   "metadata": {},
   "outputs": [
    {
     "data": {
      "text/html": [
       "<div>\n",
       "<style scoped>\n",
       "    .dataframe tbody tr th:only-of-type {\n",
       "        vertical-align: middle;\n",
       "    }\n",
       "\n",
       "    .dataframe tbody tr th {\n",
       "        vertical-align: top;\n",
       "    }\n",
       "\n",
       "    .dataframe thead th {\n",
       "        text-align: right;\n",
       "    }\n",
       "</style>\n",
       "<table border=\"1\" class=\"dataframe\">\n",
       "  <thead>\n",
       "    <tr style=\"text-align: right;\">\n",
       "      <th></th>\n",
       "      <th>LATCOD</th>\n",
       "      <th>LONCOD</th>\n",
       "    </tr>\n",
       "    <tr>\n",
       "      <th>ID_NUM</th>\n",
       "      <th></th>\n",
       "      <th></th>\n",
       "    </tr>\n",
       "  </thead>\n",
       "  <tbody>\n",
       "    <tr>\n",
       "      <th>10000500870</th>\n",
       "      <td>34.2602</td>\n",
       "      <td>-86.206200</td>\n",
       "    </tr>\n",
       "    <tr>\n",
       "      <th>10000500871</th>\n",
       "      <td>34.2622</td>\n",
       "      <td>-86.204900</td>\n",
       "    </tr>\n",
       "    <tr>\n",
       "      <th>10000500879</th>\n",
       "      <td>34.2733</td>\n",
       "      <td>-86.220100</td>\n",
       "    </tr>\n",
       "    <tr>\n",
       "      <th>10000500889</th>\n",
       "      <td>34.2527</td>\n",
       "      <td>-86.221806</td>\n",
       "    </tr>\n",
       "    <tr>\n",
       "      <th>10000501616</th>\n",
       "      <td>34.2898</td>\n",
       "      <td>-86.193300</td>\n",
       "    </tr>\n",
       "  </tbody>\n",
       "</table>\n",
       "</div>"
      ],
      "text/plain": [
       "              LATCOD     LONCOD\n",
       "ID_NUM                         \n",
       "10000500870  34.2602 -86.206200\n",
       "10000500871  34.2622 -86.204900\n",
       "10000500879  34.2733 -86.220100\n",
       "10000500889  34.2527 -86.221806\n",
       "10000501616  34.2898 -86.193300"
      ]
     },
     "execution_count": 61,
     "metadata": {},
     "output_type": "execute_result"
    }
   ],
   "source": [
    "# Check your work\n",
    "\n",
    "locations.head()"
   ]
  },
  {
   "cell_type": "code",
   "execution_count": 62,
   "metadata": {},
   "outputs": [
    {
     "data": {
      "text/html": [
       "<div>\n",
       "<style scoped>\n",
       "    .dataframe tbody tr th:only-of-type {\n",
       "        vertical-align: middle;\n",
       "    }\n",
       "\n",
       "    .dataframe tbody tr th {\n",
       "        vertical-align: top;\n",
       "    }\n",
       "\n",
       "    .dataframe thead th {\n",
       "        text-align: right;\n",
       "    }\n",
       "</style>\n",
       "<table border=\"1\" class=\"dataframe\">\n",
       "  <thead>\n",
       "    <tr style=\"text-align: right;\">\n",
       "      <th></th>\n",
       "      <th>LSTATE</th>\n",
       "      <th>SCHOOL_LEVEL</th>\n",
       "      <th>SCHOOL_TYPE_TEXT</th>\n",
       "      <th>TOTAL</th>\n",
       "      <th>FTE</th>\n",
       "      <th>STUTERATIO</th>\n",
       "      <th>AM</th>\n",
       "      <th>AS</th>\n",
       "      <th>BL</th>\n",
       "      <th>HP</th>\n",
       "      <th>HI</th>\n",
       "      <th>TR</th>\n",
       "      <th>WH</th>\n",
       "    </tr>\n",
       "    <tr>\n",
       "      <th>ID_NUM</th>\n",
       "      <th></th>\n",
       "      <th></th>\n",
       "      <th></th>\n",
       "      <th></th>\n",
       "      <th></th>\n",
       "      <th></th>\n",
       "      <th></th>\n",
       "      <th></th>\n",
       "      <th></th>\n",
       "      <th></th>\n",
       "      <th></th>\n",
       "      <th></th>\n",
       "      <th></th>\n",
       "    </tr>\n",
       "  </thead>\n",
       "  <tbody>\n",
       "    <tr>\n",
       "      <th>10000500870</th>\n",
       "      <td>AL</td>\n",
       "      <td>Middle</td>\n",
       "      <td>Regular school</td>\n",
       "      <td>908.0</td>\n",
       "      <td>42.0</td>\n",
       "      <td>21.62</td>\n",
       "      <td>2.0</td>\n",
       "      <td>4.0</td>\n",
       "      <td>33.0</td>\n",
       "      <td>0.0</td>\n",
       "      <td>469.0</td>\n",
       "      <td>29.0</td>\n",
       "      <td>371.0</td>\n",
       "    </tr>\n",
       "    <tr>\n",
       "      <th>10000500871</th>\n",
       "      <td>AL</td>\n",
       "      <td>High</td>\n",
       "      <td>Regular school</td>\n",
       "      <td>1606.0</td>\n",
       "      <td>82.0</td>\n",
       "      <td>19.59</td>\n",
       "      <td>1.0</td>\n",
       "      <td>6.0</td>\n",
       "      <td>70.0</td>\n",
       "      <td>0.0</td>\n",
       "      <td>785.0</td>\n",
       "      <td>38.0</td>\n",
       "      <td>706.0</td>\n",
       "    </tr>\n",
       "    <tr>\n",
       "      <th>10000500879</th>\n",
       "      <td>AL</td>\n",
       "      <td>Middle</td>\n",
       "      <td>Regular school</td>\n",
       "      <td>891.0</td>\n",
       "      <td>41.0</td>\n",
       "      <td>21.73</td>\n",
       "      <td>4.0</td>\n",
       "      <td>7.0</td>\n",
       "      <td>24.0</td>\n",
       "      <td>1.0</td>\n",
       "      <td>481.0</td>\n",
       "      <td>29.0</td>\n",
       "      <td>345.0</td>\n",
       "    </tr>\n",
       "    <tr>\n",
       "      <th>10000500889</th>\n",
       "      <td>AL</td>\n",
       "      <td>Elementary</td>\n",
       "      <td>Regular school</td>\n",
       "      <td>908.0</td>\n",
       "      <td>49.0</td>\n",
       "      <td>18.53</td>\n",
       "      <td>4.0</td>\n",
       "      <td>4.0</td>\n",
       "      <td>48.0</td>\n",
       "      <td>0.0</td>\n",
       "      <td>497.0</td>\n",
       "      <td>15.0</td>\n",
       "      <td>340.0</td>\n",
       "    </tr>\n",
       "    <tr>\n",
       "      <th>10000501616</th>\n",
       "      <td>AL</td>\n",
       "      <td>Elementary</td>\n",
       "      <td>Regular school</td>\n",
       "      <td>556.0</td>\n",
       "      <td>30.0</td>\n",
       "      <td>18.53</td>\n",
       "      <td>4.0</td>\n",
       "      <td>2.0</td>\n",
       "      <td>33.0</td>\n",
       "      <td>0.0</td>\n",
       "      <td>288.0</td>\n",
       "      <td>13.0</td>\n",
       "      <td>216.0</td>\n",
       "    </tr>\n",
       "  </tbody>\n",
       "</table>\n",
       "</div>"
      ],
      "text/plain": [
       "            LSTATE SCHOOL_LEVEL SCHOOL_TYPE_TEXT   TOTAL   FTE  STUTERATIO  \\\n",
       "ID_NUM                                                                       \n",
       "10000500870     AL       Middle   Regular school   908.0  42.0       21.62   \n",
       "10000500871     AL         High   Regular school  1606.0  82.0       19.59   \n",
       "10000500879     AL       Middle   Regular school   891.0  41.0       21.73   \n",
       "10000500889     AL   Elementary   Regular school   908.0  49.0       18.53   \n",
       "10000501616     AL   Elementary   Regular school   556.0  30.0       18.53   \n",
       "\n",
       "              AM   AS    BL   HP     HI    TR     WH  \n",
       "ID_NUM                                                \n",
       "10000500870  2.0  4.0  33.0  0.0  469.0  29.0  371.0  \n",
       "10000500871  1.0  6.0  70.0  0.0  785.0  38.0  706.0  \n",
       "10000500879  4.0  7.0  24.0  1.0  481.0  29.0  345.0  \n",
       "10000500889  4.0  4.0  48.0  0.0  497.0  15.0  340.0  \n",
       "10000501616  4.0  2.0  33.0  0.0  288.0  13.0  216.0  "
      ]
     },
     "execution_count": 62,
     "metadata": {},
     "output_type": "execute_result"
    }
   ],
   "source": [
    "# Check your work\n",
    "\n",
    "data.head()"
   ]
  },
  {
   "cell_type": "code",
   "execution_count": 63,
   "id": "fe362bf6-9829-4c19-929b-a255ad8a004f",
   "metadata": {},
   "outputs": [
    {
     "data": {
      "text/html": [
       "<div>\n",
       "<style scoped>\n",
       "    .dataframe tbody tr th:only-of-type {\n",
       "        vertical-align: middle;\n",
       "    }\n",
       "\n",
       "    .dataframe tbody tr th {\n",
       "        vertical-align: top;\n",
       "    }\n",
       "\n",
       "    .dataframe thead th {\n",
       "        text-align: right;\n",
       "    }\n",
       "</style>\n",
       "<table border=\"1\" class=\"dataframe\">\n",
       "  <thead>\n",
       "    <tr style=\"text-align: right;\">\n",
       "      <th></th>\n",
       "      <th>LSTATE</th>\n",
       "      <th>SCHOOL_LEVEL</th>\n",
       "      <th>SCHOOL_TYPE_TEXT</th>\n",
       "      <th>TOTAL</th>\n",
       "      <th>FTE</th>\n",
       "      <th>STUTERATIO</th>\n",
       "      <th>AM</th>\n",
       "      <th>AS</th>\n",
       "      <th>BL</th>\n",
       "      <th>HP</th>\n",
       "      <th>HI</th>\n",
       "      <th>TR</th>\n",
       "      <th>WH</th>\n",
       "      <th>LATCOD</th>\n",
       "      <th>LONCOD</th>\n",
       "    </tr>\n",
       "    <tr>\n",
       "      <th>ID_NUM</th>\n",
       "      <th></th>\n",
       "      <th></th>\n",
       "      <th></th>\n",
       "      <th></th>\n",
       "      <th></th>\n",
       "      <th></th>\n",
       "      <th></th>\n",
       "      <th></th>\n",
       "      <th></th>\n",
       "      <th></th>\n",
       "      <th></th>\n",
       "      <th></th>\n",
       "      <th></th>\n",
       "      <th></th>\n",
       "      <th></th>\n",
       "    </tr>\n",
       "  </thead>\n",
       "  <tbody>\n",
       "    <tr>\n",
       "      <th>10000500870</th>\n",
       "      <td>AL</td>\n",
       "      <td>Middle</td>\n",
       "      <td>Regular school</td>\n",
       "      <td>908.0</td>\n",
       "      <td>42.0</td>\n",
       "      <td>21.62</td>\n",
       "      <td>2.0</td>\n",
       "      <td>4.0</td>\n",
       "      <td>33.0</td>\n",
       "      <td>0.0</td>\n",
       "      <td>469.0</td>\n",
       "      <td>29.0</td>\n",
       "      <td>371.0</td>\n",
       "      <td>34.2602</td>\n",
       "      <td>-86.206200</td>\n",
       "    </tr>\n",
       "    <tr>\n",
       "      <th>10000500871</th>\n",
       "      <td>AL</td>\n",
       "      <td>High</td>\n",
       "      <td>Regular school</td>\n",
       "      <td>1606.0</td>\n",
       "      <td>82.0</td>\n",
       "      <td>19.59</td>\n",
       "      <td>1.0</td>\n",
       "      <td>6.0</td>\n",
       "      <td>70.0</td>\n",
       "      <td>0.0</td>\n",
       "      <td>785.0</td>\n",
       "      <td>38.0</td>\n",
       "      <td>706.0</td>\n",
       "      <td>34.2622</td>\n",
       "      <td>-86.204900</td>\n",
       "    </tr>\n",
       "    <tr>\n",
       "      <th>10000500879</th>\n",
       "      <td>AL</td>\n",
       "      <td>Middle</td>\n",
       "      <td>Regular school</td>\n",
       "      <td>891.0</td>\n",
       "      <td>41.0</td>\n",
       "      <td>21.73</td>\n",
       "      <td>4.0</td>\n",
       "      <td>7.0</td>\n",
       "      <td>24.0</td>\n",
       "      <td>1.0</td>\n",
       "      <td>481.0</td>\n",
       "      <td>29.0</td>\n",
       "      <td>345.0</td>\n",
       "      <td>34.2733</td>\n",
       "      <td>-86.220100</td>\n",
       "    </tr>\n",
       "    <tr>\n",
       "      <th>10000500889</th>\n",
       "      <td>AL</td>\n",
       "      <td>Elementary</td>\n",
       "      <td>Regular school</td>\n",
       "      <td>908.0</td>\n",
       "      <td>49.0</td>\n",
       "      <td>18.53</td>\n",
       "      <td>4.0</td>\n",
       "      <td>4.0</td>\n",
       "      <td>48.0</td>\n",
       "      <td>0.0</td>\n",
       "      <td>497.0</td>\n",
       "      <td>15.0</td>\n",
       "      <td>340.0</td>\n",
       "      <td>34.2527</td>\n",
       "      <td>-86.221806</td>\n",
       "    </tr>\n",
       "    <tr>\n",
       "      <th>10000501616</th>\n",
       "      <td>AL</td>\n",
       "      <td>Elementary</td>\n",
       "      <td>Regular school</td>\n",
       "      <td>556.0</td>\n",
       "      <td>30.0</td>\n",
       "      <td>18.53</td>\n",
       "      <td>4.0</td>\n",
       "      <td>2.0</td>\n",
       "      <td>33.0</td>\n",
       "      <td>0.0</td>\n",
       "      <td>288.0</td>\n",
       "      <td>13.0</td>\n",
       "      <td>216.0</td>\n",
       "      <td>34.2898</td>\n",
       "      <td>-86.193300</td>\n",
       "    </tr>\n",
       "  </tbody>\n",
       "</table>\n",
       "</div>"
      ],
      "text/plain": [
       "            LSTATE SCHOOL_LEVEL SCHOOL_TYPE_TEXT   TOTAL   FTE  STUTERATIO  \\\n",
       "ID_NUM                                                                       \n",
       "10000500870     AL       Middle   Regular school   908.0  42.0       21.62   \n",
       "10000500871     AL         High   Regular school  1606.0  82.0       19.59   \n",
       "10000500879     AL       Middle   Regular school   891.0  41.0       21.73   \n",
       "10000500889     AL   Elementary   Regular school   908.0  49.0       18.53   \n",
       "10000501616     AL   Elementary   Regular school   556.0  30.0       18.53   \n",
       "\n",
       "              AM   AS    BL   HP     HI    TR     WH   LATCOD     LONCOD  \n",
       "ID_NUM                                                                    \n",
       "10000500870  2.0  4.0  33.0  0.0  469.0  29.0  371.0  34.2602 -86.206200  \n",
       "10000500871  1.0  6.0  70.0  0.0  785.0  38.0  706.0  34.2622 -86.204900  \n",
       "10000500879  4.0  7.0  24.0  1.0  481.0  29.0  345.0  34.2733 -86.220100  \n",
       "10000500889  4.0  4.0  48.0  0.0  497.0  15.0  340.0  34.2527 -86.221806  \n",
       "10000501616  4.0  2.0  33.0  0.0  288.0  13.0  216.0  34.2898 -86.193300  "
      ]
     },
     "execution_count": 63,
     "metadata": {},
     "output_type": "execute_result"
    }
   ],
   "source": [
    "# Join the location and data dataframes together\n",
    "\n",
    "df = pd.concat([data, locations], axis=1, join=\"inner\")\n",
    "df.head()\n",
    "# df.index.duplicated().sum()"
   ]
  },
  {
   "cell_type": "code",
   "execution_count": 64,
   "id": "136c325e-f07b-41cd-b5e9-9573675d5485",
   "metadata": {},
   "outputs": [
    {
     "data": {
      "text/plain": [
       "Regular school                  91595\n",
       "Alternative Education School     5588\n",
       "Special education school         1946\n",
       "Career and Technical School      1593\n",
       "Name: SCHOOL_TYPE_TEXT, dtype: int64"
      ]
     },
     "execution_count": 64,
     "metadata": {},
     "output_type": "execute_result"
    }
   ],
   "source": [
    "# Get the value counts for the school type column\n",
    "\n",
    "\n",
    "df[\"SCHOOL_TYPE_TEXT\"].value_counts()"
   ]
  },
  {
   "cell_type": "code",
   "execution_count": 65,
   "id": "99f87e68-5766-4965-b040-aabaa79ed96b",
   "metadata": {},
   "outputs": [
    {
     "name": "stdout",
     "output_type": "stream",
     "text": [
      "91595\n"
     ]
    }
   ],
   "source": [
    "# Create a subset of the dataframe that only includes regular schools ensure it was successful by comparing rows in the subset to the value counts above\n",
    "regular_schools = df.loc[df['SCHOOL_TYPE_TEXT'] == 'Regular school']\n",
    "\n",
    "print(len(regular_schools))"
   ]
  },
  {
   "cell_type": "code",
   "execution_count": 66,
   "id": "c9351847",
   "metadata": {},
   "outputs": [
    {
     "name": "stdout",
     "output_type": "stream",
     "text": [
      "91595\n"
     ]
    }
   ],
   "source": [
    "print(len(regular_schools[\"TOTAL\"]))"
   ]
  },
  {
   "cell_type": "code",
   "execution_count": null,
   "id": "9486f609",
   "metadata": {},
   "outputs": [],
   "source": []
  },
  {
   "attachments": {},
   "cell_type": "markdown",
   "id": "00a498d3-e82a-479a-b3f3-ca3d4a46e787",
   "metadata": {},
   "source": [
    "## Data Cleaning and dealing with nulls"
   ]
  },
  {
   "cell_type": "code",
   "execution_count": 67,
   "id": "eb046205-7c50-431a-93ff-3ce3950d1668",
   "metadata": {},
   "outputs": [
    {
     "data": {
      "text/plain": [
       "LSTATE                  0\n",
       "SCHOOL_LEVEL            0\n",
       "SCHOOL_TYPE_TEXT        0\n",
       "TOTAL                 868\n",
       "FTE                  6653\n",
       "STUTERATIO            532\n",
       "AM                  22158\n",
       "AS                  11894\n",
       "BL                   7059\n",
       "HP                  32405\n",
       "HI                   2257\n",
       "TR                   4972\n",
       "WH                   2368\n",
       "LATCOD                  0\n",
       "LONCOD                  0\n",
       "dtype: int64"
      ]
     },
     "execution_count": 67,
     "metadata": {},
     "output_type": "execute_result"
    }
   ],
   "source": [
    "# Check for nulls and determine the best approach for dealing with them\n",
    "regular_schools.isnull().sum()"
   ]
  },
  {
   "cell_type": "code",
   "execution_count": 68,
   "id": "9b475f58-df81-4d29-8daf-486d62bceae5",
   "metadata": {},
   "outputs": [],
   "source": [
    "# Fill some of the columns with 0 where it makes sense\n",
    "\n",
    "regular_schools = regular_schools.loc[regular_schools[\"AM\"] == regular_schools[\"AM\"].fillna(0)]\n",
    "regular_schools = regular_schools.loc[regular_schools[\"AS\"] == regular_schools[\"AS\"].fillna(0)]\n",
    "regular_schools = regular_schools.loc[regular_schools[\"BL\"] == regular_schools[\"BL\"].fillna(0)]\n",
    "regular_schools = regular_schools.loc[regular_schools[\"HP\"] == regular_schools[\"HP\"].fillna(0)]\n",
    "regular_schools = regular_schools.loc[regular_schools[\"HI\"] == regular_schools[\"HI\"].fillna(0)]\n",
    "regular_schools = regular_schools.loc[regular_schools[\"TR\"] == regular_schools[\"TR\"].fillna(0)]\n",
    "regular_schools = regular_schools.loc[regular_schools[\"WH\"] == regular_schools[\"WH\"].fillna(0)]\n",
    "# regular_schools[\"AM\"] = regular_schools[\"AM\"].fillna(0)\n",
    "# regular_schools[\"AS\"] = regular_schools[\"AS\"].fillna(0)\n",
    "# regular_schools[\"BL\"] = regular_schools[\"BL\"].fillna(0)\n",
    "# regular_schools[\"HP\"] = regular_schools[\"HP\"].fillna(0)\n",
    "# regular_schools[\"HI\"] = regular_schools[\"HI\"].fillna(0)\n",
    "# regular_schools[\"TR\"] = regular_schools[\"TR\"].fillna(0)\n",
    "# regular_schools[\"WH\"] = regular_schools[\"WH\"].fillna(0)"
   ]
  },
  {
   "cell_type": "code",
   "execution_count": 69,
   "id": "5cad43d6-8d29-450e-8a24-c9e7524b3e99",
   "metadata": {},
   "outputs": [
    {
     "data": {
      "text/plain": [
       "LSTATE                 0\n",
       "SCHOOL_LEVEL           0\n",
       "SCHOOL_TYPE_TEXT       0\n",
       "TOTAL                  0\n",
       "FTE                 1967\n",
       "STUTERATIO           474\n",
       "AM                     0\n",
       "AS                     0\n",
       "BL                     0\n",
       "HP                     0\n",
       "HI                     0\n",
       "TR                     0\n",
       "WH                     0\n",
       "LATCOD                 0\n",
       "LONCOD                 0\n",
       "dtype: int64"
      ]
     },
     "execution_count": 69,
     "metadata": {},
     "output_type": "execute_result"
    }
   ],
   "source": [
    "# Verify changes to nulls and prepare to drop na\n",
    "regular_schools.isnull().sum()"
   ]
  },
  {
   "cell_type": "code",
   "execution_count": 70,
   "id": "c579c438-11e1-417f-b7e4-16c4fd1aa3c0",
   "metadata": {},
   "outputs": [],
   "source": [
    "# Drop remaining nulls wher it would make sense\n",
    "\n",
    "regular_schools = regular_schools.dropna().copy()\n"
   ]
  },
  {
   "cell_type": "code",
   "execution_count": 71,
   "id": "f8fb04d0-79d1-4ea1-b995-be79190644b7",
   "metadata": {},
   "outputs": [
    {
     "data": {
      "text/plain": [
       "LSTATE              0\n",
       "SCHOOL_LEVEL        0\n",
       "SCHOOL_TYPE_TEXT    0\n",
       "TOTAL               0\n",
       "FTE                 0\n",
       "STUTERATIO          0\n",
       "AM                  0\n",
       "AS                  0\n",
       "BL                  0\n",
       "HP                  0\n",
       "HI                  0\n",
       "TR                  0\n",
       "WH                  0\n",
       "LATCOD              0\n",
       "LONCOD              0\n",
       "dtype: int64"
      ]
     },
     "execution_count": 71,
     "metadata": {},
     "output_type": "execute_result"
    }
   ],
   "source": [
    "# Verify changes to nulls and no nulls should remain\n",
    "regular_schools.isnull().sum()"
   ]
  },
  {
   "cell_type": "code",
   "execution_count": 72,
   "id": "0e6ddbef",
   "metadata": {},
   "outputs": [
    {
     "data": {
      "text/html": [
       "<div>\n",
       "<style scoped>\n",
       "    .dataframe tbody tr th:only-of-type {\n",
       "        vertical-align: middle;\n",
       "    }\n",
       "\n",
       "    .dataframe tbody tr th {\n",
       "        vertical-align: top;\n",
       "    }\n",
       "\n",
       "    .dataframe thead th {\n",
       "        text-align: right;\n",
       "    }\n",
       "</style>\n",
       "<table border=\"1\" class=\"dataframe\">\n",
       "  <thead>\n",
       "    <tr style=\"text-align: right;\">\n",
       "      <th></th>\n",
       "      <th>LSTATE</th>\n",
       "      <th>SCHOOL_LEVEL</th>\n",
       "      <th>SCHOOL_TYPE_TEXT</th>\n",
       "      <th>TOTAL</th>\n",
       "      <th>FTE</th>\n",
       "      <th>STUTERATIO</th>\n",
       "      <th>AM</th>\n",
       "      <th>AS</th>\n",
       "      <th>BL</th>\n",
       "      <th>HP</th>\n",
       "      <th>HI</th>\n",
       "      <th>TR</th>\n",
       "      <th>WH</th>\n",
       "      <th>LATCOD</th>\n",
       "      <th>LONCOD</th>\n",
       "    </tr>\n",
       "    <tr>\n",
       "      <th>ID_NUM</th>\n",
       "      <th></th>\n",
       "      <th></th>\n",
       "      <th></th>\n",
       "      <th></th>\n",
       "      <th></th>\n",
       "      <th></th>\n",
       "      <th></th>\n",
       "      <th></th>\n",
       "      <th></th>\n",
       "      <th></th>\n",
       "      <th></th>\n",
       "      <th></th>\n",
       "      <th></th>\n",
       "      <th></th>\n",
       "      <th></th>\n",
       "    </tr>\n",
       "  </thead>\n",
       "  <tbody>\n",
       "    <tr>\n",
       "      <th>10000500870</th>\n",
       "      <td>AL</td>\n",
       "      <td>Middle</td>\n",
       "      <td>Regular school</td>\n",
       "      <td>908.0</td>\n",
       "      <td>42.0</td>\n",
       "      <td>21.62</td>\n",
       "      <td>2.0</td>\n",
       "      <td>4.0</td>\n",
       "      <td>33.0</td>\n",
       "      <td>0.0</td>\n",
       "      <td>469.0</td>\n",
       "      <td>29.0</td>\n",
       "      <td>371.0</td>\n",
       "      <td>34.26</td>\n",
       "      <td>-86.21</td>\n",
       "    </tr>\n",
       "    <tr>\n",
       "      <th>10000500871</th>\n",
       "      <td>AL</td>\n",
       "      <td>High</td>\n",
       "      <td>Regular school</td>\n",
       "      <td>1606.0</td>\n",
       "      <td>82.0</td>\n",
       "      <td>19.59</td>\n",
       "      <td>1.0</td>\n",
       "      <td>6.0</td>\n",
       "      <td>70.0</td>\n",
       "      <td>0.0</td>\n",
       "      <td>785.0</td>\n",
       "      <td>38.0</td>\n",
       "      <td>706.0</td>\n",
       "      <td>34.26</td>\n",
       "      <td>-86.20</td>\n",
       "    </tr>\n",
       "    <tr>\n",
       "      <th>10000500879</th>\n",
       "      <td>AL</td>\n",
       "      <td>Middle</td>\n",
       "      <td>Regular school</td>\n",
       "      <td>891.0</td>\n",
       "      <td>41.0</td>\n",
       "      <td>21.73</td>\n",
       "      <td>4.0</td>\n",
       "      <td>7.0</td>\n",
       "      <td>24.0</td>\n",
       "      <td>1.0</td>\n",
       "      <td>481.0</td>\n",
       "      <td>29.0</td>\n",
       "      <td>345.0</td>\n",
       "      <td>34.27</td>\n",
       "      <td>-86.22</td>\n",
       "    </tr>\n",
       "    <tr>\n",
       "      <th>10000500889</th>\n",
       "      <td>AL</td>\n",
       "      <td>Elementary</td>\n",
       "      <td>Regular school</td>\n",
       "      <td>908.0</td>\n",
       "      <td>49.0</td>\n",
       "      <td>18.53</td>\n",
       "      <td>4.0</td>\n",
       "      <td>4.0</td>\n",
       "      <td>48.0</td>\n",
       "      <td>0.0</td>\n",
       "      <td>497.0</td>\n",
       "      <td>15.0</td>\n",
       "      <td>340.0</td>\n",
       "      <td>34.25</td>\n",
       "      <td>-86.22</td>\n",
       "    </tr>\n",
       "    <tr>\n",
       "      <th>10000501616</th>\n",
       "      <td>AL</td>\n",
       "      <td>Elementary</td>\n",
       "      <td>Regular school</td>\n",
       "      <td>556.0</td>\n",
       "      <td>30.0</td>\n",
       "      <td>18.53</td>\n",
       "      <td>4.0</td>\n",
       "      <td>2.0</td>\n",
       "      <td>33.0</td>\n",
       "      <td>0.0</td>\n",
       "      <td>288.0</td>\n",
       "      <td>13.0</td>\n",
       "      <td>216.0</td>\n",
       "      <td>34.29</td>\n",
       "      <td>-86.19</td>\n",
       "    </tr>\n",
       "  </tbody>\n",
       "</table>\n",
       "</div>"
      ],
      "text/plain": [
       "            LSTATE SCHOOL_LEVEL SCHOOL_TYPE_TEXT   TOTAL   FTE  STUTERATIO  \\\n",
       "ID_NUM                                                                       \n",
       "10000500870     AL       Middle   Regular school   908.0  42.0       21.62   \n",
       "10000500871     AL         High   Regular school  1606.0  82.0       19.59   \n",
       "10000500879     AL       Middle   Regular school   891.0  41.0       21.73   \n",
       "10000500889     AL   Elementary   Regular school   908.0  49.0       18.53   \n",
       "10000501616     AL   Elementary   Regular school   556.0  30.0       18.53   \n",
       "\n",
       "              AM   AS    BL   HP     HI    TR     WH  LATCOD  LONCOD  \n",
       "ID_NUM                                                                \n",
       "10000500870  2.0  4.0  33.0  0.0  469.0  29.0  371.0   34.26  -86.21  \n",
       "10000500871  1.0  6.0  70.0  0.0  785.0  38.0  706.0   34.26  -86.20  \n",
       "10000500879  4.0  7.0  24.0  1.0  481.0  29.0  345.0   34.27  -86.22  \n",
       "10000500889  4.0  4.0  48.0  0.0  497.0  15.0  340.0   34.25  -86.22  \n",
       "10000501616  4.0  2.0  33.0  0.0  288.0  13.0  216.0   34.29  -86.19  "
      ]
     },
     "execution_count": 72,
     "metadata": {},
     "output_type": "execute_result"
    }
   ],
   "source": [
    "# Round up decimals\n",
    "\n",
    "regular_schools = regular_schools.round(2)\n",
    "regular_schools.head()\n",
    "\n"
   ]
  },
  {
   "cell_type": "code",
   "execution_count": 73,
   "id": "e44af354",
   "metadata": {},
   "outputs": [],
   "source": [
    "# Write out df as csv for reference\n",
    "\n",
    "regular_schools.to_csv('regular_schools.csv', header=True, index_label=\"ID_NUM\")"
   ]
  },
  {
   "attachments": {},
   "cell_type": "markdown",
   "id": "94b0396d-1b61-492f-abe8-ed6ad3482f4d",
   "metadata": {},
   "source": [
    "## Plotting to help Clean the Data"
   ]
  },
  {
   "cell_type": "code",
   "execution_count": 74,
   "id": "f33bc272-be71-43dc-9cfb-cde1edcb2fee",
   "metadata": {},
   "outputs": [
    {
     "data": {
      "text/plain": [
       "Text(0.5, 1.0, 'Distribution of Total Enrollment')"
      ]
     },
     "execution_count": 74,
     "metadata": {},
     "output_type": "execute_result"
    },
    {
     "data": {
      "image/png": "[encoded data removed]",
      "text/plain": [
       "<Figure size 640x480 with 1 Axes>"
      ]
     },
     "metadata": {},
     "output_type": "display_data"
    }
   ],
   "source": [
    "# Plot a histogram of Total enrolled students and check for outliers\n",
    "\n",
    "regular_schools[\"TOTAL\"].plot.hist(bins=100, facecolor=\"mediumpurple\")\n",
    "plt.xlabel(\"Total Enrolled Students\")\n",
    "plt.title(\"Distribution of Total Enrollment\")"
   ]
  },
  {
   "cell_type": "code",
   "execution_count": 75,
   "id": "ba8b0e8f-f81f-483e-9fca-0c6d06ccbaf3",
   "metadata": {},
   "outputs": [
    {
     "data": {
      "text/plain": [
       "Text(0.5, 1.0, 'Distribution of Total Teachers')"
      ]
     },
     "execution_count": 75,
     "metadata": {},
     "output_type": "execute_result"
    },
    {
     "data": {
      "image/png": "[encoded data removed]",
      "text/plain": [
       "<Figure size 640x480 with 1 Axes>"
      ]
     },
     "metadata": {},
     "output_type": "display_data"
    }
   ],
   "source": [
    "# Plot a histogram of Total Teachers and check for outliers\n",
    "\n",
    "regular_schools[\"FTE\"].plot.hist(bins=100, facecolor=\"indigo\")\n",
    "plt.xlabel(\"Total Teachers\")\n",
    "plt.title(\"Distribution of Total Teachers\")"
   ]
  },
  {
   "cell_type": "code",
   "execution_count": 76,
   "id": "aaf94346-5886-4517-b971-e07ad091bbc1",
   "metadata": {},
   "outputs": [
    {
     "data": {
      "text/plain": [
       "Text(0.5, 1.0, 'Distribution of Student/Teacher Ratio')"
      ]
     },
     "execution_count": 76,
     "metadata": {},
     "output_type": "execute_result"
    },
    {
     "data": {
      "image/png": "[encoded data removed]",
      "text/plain": [
       "<Figure size 640x480 with 1 Axes>"
      ]
     },
     "metadata": {},
     "output_type": "display_data"
    }
   ],
   "source": [
    "# Plot a histogram of Student Teacher Ratio and check for outliers\n",
    "regular_schools[\"STUTERATIO\"].plot.hist(bins=100, facecolor=\"mediumorchid\")\n",
    "plt.xlabel(\"Student/Teacher Ratio\")\n",
    "plt.title(\"Distribution of Student/Teacher Ratio\")"
   ]
  },
  {
   "cell_type": "code",
   "execution_count": 77,
   "id": "01b5a36c-7d94-48d0-8ac6-d2fd12e88d59",
   "metadata": {},
   "outputs": [
    {
     "data": {
      "text/plain": [
       "<AxesSubplot:ylabel='Frequency'>"
      ]
     },
     "execution_count": 77,
     "metadata": {},
     "output_type": "execute_result"
    },
    {
     "data": {
      "image/png": "[encoded data removed]",
      "text/plain": [
       "<Figure size 640x480 with 1 Axes>"
      ]
     },
     "metadata": {},
     "output_type": "display_data"
    }
   ],
   "source": [
    "# Re-Plot a histogram of Total enrolled students after removing 0s and outliers above the 99th quantile\n",
    "\n",
    "qlow_total = regular_schools[\"TOTAL\"].quantile(0.01)\n",
    "qhigh_total = regular_schools[\"TOTAL\"].quantile(0.99)\n",
    "total_filtered = regular_schools[(regular_schools[\"TOTAL\"] >= qlow_total) & (regular_schools[\"TOTAL\"] <= qhigh_total)]\n",
    "total_filtered[\"TOTAL\"].plot.hist(bins=100, facecolor=\"mediumpurple\")"
   ]
  },
  {
   "cell_type": "code",
   "execution_count": 79,
   "id": "f2f104a9-1c7c-44bd-b3ca-694972a5838c",
   "metadata": {},
   "outputs": [
    {
     "data": {
      "text/plain": [
       "<AxesSubplot:ylabel='Frequency'>"
      ]
     },
     "execution_count": 79,
     "metadata": {},
     "output_type": "execute_result"
    },
    {
     "data": {
      "image/png": "[encoded data removed]",
      "text/plain": [
       "<Figure size 640x480 with 1 Axes>"
      ]
     },
     "metadata": {},
     "output_type": "display_data"
    }
   ],
   "source": [
    "# Re-Plot a histogram of Total Teachers after removing 0s and outliers above the 99th quantile\n",
    "\n",
    "qlow_fte = regular_schools[\"FTE\"].quantile(0.01)\n",
    "qhigh_fte = regular_schools[\"FTE\"].quantile(0.99)\n",
    "fte_filtered = regular_schools[(regular_schools[\"FTE\"] >= qlow_fte) & (regular_schools[\"FTE\"] <= qhigh_fte)]\n",
    "\n",
    "fte_filtered[\"FTE\"].plot.hist(bins=100, facecolor=\"indigo\")"
   ]
  },
  {
   "cell_type": "code",
   "execution_count": 80,
   "id": "5099b089-dd01-4015-a089-d7c8c5fe0a50",
   "metadata": {},
   "outputs": [
    {
     "data": {
      "text/plain": [
       "Text(0.5, 1.0, 'Distribution of Student/Teacher Ratio')"
      ]
     },
     "execution_count": 80,
     "metadata": {},
     "output_type": "execute_result"
    },
    {
     "data": {
      "image/png": "[encoded data removed]",
      "text/plain": [
       "<Figure size 640x480 with 1 Axes>"
      ]
     },
     "metadata": {},
     "output_type": "display_data"
    }
   ],
   "source": [
    "# Re-Plot a histogram of Student Teacher Ratio after removing 0s and outliers above the 99th quantile\n",
    "qlow_stute = regular_schools[\"STUTERATIO\"].quantile(0.01)\n",
    "qhigh_stute = regular_schools[\"STUTERATIO\"].quantile(0.99)\n",
    "stuteratio_filtered = regular_schools[(regular_schools[\"STUTERATIO\"] >= qlow_stute) & (regular_schools[\"STUTERATIO\"] <= qhigh_stute)]\n",
    "\n",
    "stuteratio_filtered[\"STUTERATIO\"].plot.hist(bins=100, facecolor=\"mediumorchid\")\n",
    "plt.xlabel(\"Student/Teacher Ratio\")\n",
    "plt.title(\"Distribution of Student/Teacher Ratio\")\n",
    "\n"
   ]
  },
  {
   "attachments": {},
   "cell_type": "markdown",
   "id": "be8a5465-1729-4224-8d67-a3bb7d2e36db",
   "metadata": {},
   "source": [
    "## Correlation Plot to Understand Data Relationships"
   ]
  },
  {
   "cell_type": "code",
   "execution_count": null,
   "id": "0dcf932f",
   "metadata": {},
   "outputs": [],
   "source": [
    "regular_schools.head()"
   ]
  },
  {
   "cell_type": "code",
   "execution_count": 81,
   "id": "eba2a690-97c0-4cbb-8eee-e3f59ea2d7b7",
   "metadata": {},
   "outputs": [
    {
     "data": {
      "text/plain": [
       "Text(0.5, 1.0, 'Correlation Heatmap')"
      ]
     },
     "execution_count": 81,
     "metadata": {},
     "output_type": "execute_result"
    },
    {
     "data": {
      "image/png": "[encoded data removed]",
      "text/plain": [
       "<Figure size 1000x800 with 2 Axes>"
      ]
     },
     "metadata": {},
     "output_type": "display_data"
    }
   ],
   "source": [
    "# Use seaborn to generate a correlation heatmap for the columns in the dataframe\n",
    "corr_matrix = regular_schools.corr()\n",
    "\n",
    "# Custom colored heatmap:\n",
    "my_cmap = sns.diverging_palette(270, 330, s=65, l=40, as_cmap=True)\n",
    "\n",
    "\n",
    "plt.figure(figsize=(10, 8))\n",
    "sns.heatmap(corr_matrix, annot=True, cmap=my_cmap)\n",
    "plt.title('Correlation Heatmap')\n"
   ]
  },
  {
   "attachments": {},
   "cell_type": "markdown",
   "id": "2c7d5297-4123-4304-828f-fab95f809b9e",
   "metadata": {},
   "source": [
    "## Geographic Plots"
   ]
  },
  {
   "cell_type": "code",
   "execution_count": 95,
   "id": "2a04806b",
   "metadata": {},
   "outputs": [
    {
     "data": {
      "text/plain": [
       "Index(['LSTATE', 'SCHOOL_LEVEL', 'SCHOOL_TYPE_TEXT', 'TOTAL', 'FTE',\n",
       "       'STUTERATIO', 'AM', 'AS', 'BL', 'HP', 'HI', 'TR', 'WH', 'LATCOD',\n",
       "       'LONCOD'],\n",
       "      dtype='object')"
      ]
     },
     "execution_count": 95,
     "metadata": {},
     "output_type": "execute_result"
    }
   ],
   "source": [
    "# Display columns for reference\n",
    "\n",
    "regular_schools.columns"
   ]
  },
  {
   "cell_type": "code",
   "execution_count": 139,
   "id": "ea105476-cb58-4e1b-b6e4-48f0dce896ae",
   "metadata": {},
   "outputs": [
    {
     "data": {
      "text/html": [
       "<div>\n",
       "<style scoped>\n",
       "    .dataframe tbody tr th:only-of-type {\n",
       "        vertical-align: middle;\n",
       "    }\n",
       "\n",
       "    .dataframe tbody tr th {\n",
       "        vertical-align: top;\n",
       "    }\n",
       "\n",
       "    .dataframe thead th {\n",
       "        text-align: right;\n",
       "    }\n",
       "</style>\n",
       "<table border=\"1\" class=\"dataframe\">\n",
       "  <thead>\n",
       "    <tr style=\"text-align: right;\">\n",
       "      <th></th>\n",
       "      <th>LATCOD</th>\n",
       "      <th>LONCOD</th>\n",
       "    </tr>\n",
       "    <tr>\n",
       "      <th>LSTATE</th>\n",
       "      <th></th>\n",
       "      <th></th>\n",
       "    </tr>\n",
       "  </thead>\n",
       "  <tbody>\n",
       "    <tr>\n",
       "      <th>AL</th>\n",
       "      <td>34.26</td>\n",
       "      <td>-86.21</td>\n",
       "    </tr>\n",
       "    <tr>\n",
       "      <th>AL</th>\n",
       "      <td>34.26</td>\n",
       "      <td>-86.20</td>\n",
       "    </tr>\n",
       "    <tr>\n",
       "      <th>AL</th>\n",
       "      <td>34.27</td>\n",
       "      <td>-86.22</td>\n",
       "    </tr>\n",
       "    <tr>\n",
       "      <th>AL</th>\n",
       "      <td>34.25</td>\n",
       "      <td>-86.22</td>\n",
       "    </tr>\n",
       "    <tr>\n",
       "      <th>AL</th>\n",
       "      <td>34.29</td>\n",
       "      <td>-86.19</td>\n",
       "    </tr>\n",
       "  </tbody>\n",
       "</table>\n",
       "</div>"
      ],
      "text/plain": [
       "        LATCOD  LONCOD\n",
       "LSTATE                \n",
       "AL       34.26  -86.21\n",
       "AL       34.26  -86.20\n",
       "AL       34.27  -86.22\n",
       "AL       34.25  -86.22\n",
       "AL       34.29  -86.19"
      ]
     },
     "execution_count": 139,
     "metadata": {},
     "output_type": "execute_result"
    }
   ],
   "source": [
    "# Set necessary df parameters\n",
    "\n",
    "contiguous = regular_schools.iloc[:, [0, 13, 14]].copy()\n",
    "\n",
    "# Uncomment the following to check unique values:\n",
    "\n",
    "# states = contiguous[\"LSTATE\"].unique()\n",
    "# for state in states:\n",
    "    # print(state)\n",
    "\n",
    "# \"VI\" and \"GU\" are the only two values in the df that are not contiguous states\n",
    "\n",
    "territories = [\"VI\", \"GU\"]\n",
    "contiguous = contiguous[contiguous.LSTATE.isin(territories) == False]\n",
    "\n",
    "# Uncomment the following to check unique values:\n",
    "\n",
    "# states = contiguous[\"LSTATE\"].unique()\n",
    "# for state in states:\n",
    "    # print(state)\n",
    "contiguous.set_index(contiguous[\"LSTATE\"], inplace=True)\n",
    "contiguous = contiguous.drop(columns=[\"LSTATE\"])\n",
    "\n",
    "contiguous.head()"
   ]
  },
  {
   "cell_type": "code",
   "execution_count": 154,
   "id": "87df7869",
   "metadata": {},
   "outputs": [
    {
     "data": {
      "text/plain": [
       "<AxesSubplot:xlabel='LONCOD', ylabel='LATCOD'>"
      ]
     },
     "execution_count": 154,
     "metadata": {},
     "output_type": "execute_result"
    },
    {
     "data": {
      "image/png": "[encoded data removed]",
      "text/plain": [
       "<Figure size 800x500 with 1 Axes>"
      ]
     },
     "metadata": {},
     "output_type": "display_data"
    }
   ],
   "source": [
    "# Plot only schools from the 48 contiguous US states or the 50 US states (drop territories and PR)\n",
    "\n",
    "contiguous.plot.scatter(x=\"LONCOD\", y=\"LATCOD\", figsize=(8,5))\n"
   ]
  },
  {
   "cell_type": "code",
   "execution_count": null,
   "id": "4d40e365-a229-4cb4-bff9-e1047a2ed42e",
   "metadata": {},
   "outputs": [],
   "source": [
    "# Plot only schools in your state\n",
    "\n",
    "\n",
    "\n"
   ]
  },
  {
   "attachments": {},
   "cell_type": "markdown",
   "id": "6cfe5be1-7121-47e0-8aa8-7f08a7673ee5",
   "metadata": {},
   "source": [
    "## School Quality Analysis: Student/Teacher Ratios"
   ]
  },
  {
   "cell_type": "code",
   "execution_count": null,
   "id": "83b36d34-4510-486c-baeb-388a77761482",
   "metadata": {},
   "outputs": [],
   "source": [
    "# Use the dataframe that has filtered out the outliers in Student Teacher Ratio and group by state and get the average\n",
    "# Show the highest 5 Student/Teacher ratios and lowest 5 Student/Teacher ratios as well as the average for your state\n",
    "\n"
   ]
  },
  {
   "cell_type": "code",
   "execution_count": null,
   "id": "4506185c-6937-4f27-a89e-3521dcae2075",
   "metadata": {},
   "outputs": [],
   "source": [
    "# What is the mean of the Student/Teacher Ratio\n"
   ]
  },
  {
   "cell_type": "code",
   "execution_count": null,
   "id": "5b45a37e-99d6-45ab-bf2f-6aa088feb2a9",
   "metadata": {},
   "outputs": [],
   "source": [
    "# What is the standard deviation of the Student/Teacher Ratio\n"
   ]
  },
  {
   "cell_type": "code",
   "execution_count": null,
   "id": "ce2f701d-fbce-4634-a279-50812760740e",
   "metadata": {},
   "outputs": [],
   "source": [
    "# Plot the states ratios in descending order\n"
   ]
  },
  {
   "cell_type": "code",
   "execution_count": null,
   "id": "9c6cf9f8-ca2d-46c6-8ac6-38b934569d07",
   "metadata": {},
   "outputs": [],
   "source": [
    "# Plot a boxplot of the Student/Teacher Ratios\n"
   ]
  },
  {
   "cell_type": "code",
   "execution_count": null,
   "id": "7995326b-69ba-4e77-9a72-85ea5af21e47",
   "metadata": {},
   "outputs": [],
   "source": [
    "# List or Plot the Highest 5 states\n",
    "\n"
   ]
  },
  {
   "cell_type": "code",
   "execution_count": null,
   "id": "c713481a-8309-4af8-8b99-5210277ecfdf",
   "metadata": {},
   "outputs": [],
   "source": [
    "# List or plot the lowest 5\n",
    "\n"
   ]
  },
  {
   "cell_type": "code",
   "execution_count": null,
   "id": "506836d8-96e1-46fe-890a-53dcf9f4fa27",
   "metadata": {},
   "outputs": [],
   "source": [
    "# Print your state's Student Teacher Ratios\n",
    "\n"
   ]
  },
  {
   "attachments": {},
   "cell_type": "markdown",
   "id": "c5483b02-4800-4861-be2c-5df701c7c236",
   "metadata": {},
   "source": [
    "## Summarize your findings from any of the analysis or plots above:\n",
    "* Were there any interesting Correlations?\n",
    "* How did your state compare to others?\n",
    "* Would you have made any different decisions in the earlier cleaning stages after becoming more familiar with the data?\n",
    "* What is going on in IL?\n",
    "* What other analysis could be done with this data?"
   ]
  },
  {
   "attachments": {},
   "cell_type": "markdown",
   "id": "1ad4d2bc-989d-4dd9-9925-1cf1d6e737a1",
   "metadata": {},
   "source": [
    "## BONUS: Generate other interesting analysis or plots"
   ]
  },
  {
   "cell_type": "code",
   "execution_count": null,
   "id": "630d6d42-481b-4c57-ad6d-1fec27713850",
   "metadata": {},
   "outputs": [],
   "source": [
    "# Your code below\n"
   ]
  }
 ],
 "metadata": {
  "kernelspec": {
   "display_name": "Python 3 (ipykernel)",
   "language": "python",
   "name": "python3"
  },
  "language_info": {
   "codemirror_mode": {
    "name": "ipython",
    "version": 3
   },
   "file_extension": ".py",
   "mimetype": "text/x-python",
   "name": "python",
   "nbconvert_exporter": "python",
   "pygments_lexer": "ipython3",
   "version": "3.7.13"
  }
 },
 "nbformat": 4,
 "nbformat_minor": 5
}
